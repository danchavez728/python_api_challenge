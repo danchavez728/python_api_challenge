{
 "cells": [
  {
   "cell_type": "code",
   "execution_count": 1,
   "metadata": {},
   "outputs": [],
   "source": [
    "# Dependencies\n",
    "import json\n",
    "import requests\n",
    "from config import api_key\n",
    "import matplotlib.pyplot as plt\n",
    "import pandas as pd\n",
    "from scipy import stats\n",
    "from citipy import citipy\n",
    "import random as random\n",
    "import numpy as np\n",
    "import gmaps\n",
    "from config import gkey\n",
    "import os\n"
   ]
  },
  {
   "cell_type": "code",
   "execution_count": 2,
   "metadata": {},
   "outputs": [
    {
     "data": {
      "text/html": [
       "<div>\n",
       "<style scoped>\n",
       "    .dataframe tbody tr th:only-of-type {\n",
       "        vertical-align: middle;\n",
       "    }\n",
       "\n",
       "    .dataframe tbody tr th {\n",
       "        vertical-align: top;\n",
       "    }\n",
       "\n",
       "    .dataframe thead th {\n",
       "        text-align: right;\n",
       "    }\n",
       "</style>\n",
       "<table border=\"1\" class=\"dataframe\">\n",
       "  <thead>\n",
       "    <tr style=\"text-align: right;\">\n",
       "      <th></th>\n",
       "      <th>City_ID</th>\n",
       "      <th>City</th>\n",
       "      <th>Cloudiness</th>\n",
       "      <th>Country</th>\n",
       "      <th>Date</th>\n",
       "      <th>Humidity</th>\n",
       "      <th>Lat</th>\n",
       "      <th>Lng</th>\n",
       "      <th>Max Temp</th>\n",
       "      <th>Wind Speed</th>\n",
       "    </tr>\n",
       "  </thead>\n",
       "  <tbody>\n",
       "    <tr>\n",
       "      <td>0</td>\n",
       "      <td>0</td>\n",
       "      <td>ostrovnoy</td>\n",
       "      <td>2</td>\n",
       "      <td>RU</td>\n",
       "      <td>1558378754</td>\n",
       "      <td>72</td>\n",
       "      <td>68.05</td>\n",
       "      <td>39.51</td>\n",
       "      <td>37.50</td>\n",
       "      <td>7.16</td>\n",
       "    </tr>\n",
       "    <tr>\n",
       "      <td>1</td>\n",
       "      <td>1</td>\n",
       "      <td>mahebourg</td>\n",
       "      <td>75</td>\n",
       "      <td>MU</td>\n",
       "      <td>1558378503</td>\n",
       "      <td>74</td>\n",
       "      <td>-20.41</td>\n",
       "      <td>57.70</td>\n",
       "      <td>78.80</td>\n",
       "      <td>11.41</td>\n",
       "    </tr>\n",
       "    <tr>\n",
       "      <td>2</td>\n",
       "      <td>2</td>\n",
       "      <td>qaanaaq</td>\n",
       "      <td>25</td>\n",
       "      <td>GL</td>\n",
       "      <td>1558378755</td>\n",
       "      <td>73</td>\n",
       "      <td>77.48</td>\n",
       "      <td>-69.36</td>\n",
       "      <td>22.20</td>\n",
       "      <td>2.37</td>\n",
       "    </tr>\n",
       "    <tr>\n",
       "      <td>3</td>\n",
       "      <td>3</td>\n",
       "      <td>zhuhai</td>\n",
       "      <td>0</td>\n",
       "      <td>CN</td>\n",
       "      <td>1558378755</td>\n",
       "      <td>39</td>\n",
       "      <td>40.71</td>\n",
       "      <td>112.04</td>\n",
       "      <td>44.60</td>\n",
       "      <td>4.47</td>\n",
       "    </tr>\n",
       "    <tr>\n",
       "      <td>4</td>\n",
       "      <td>4</td>\n",
       "      <td>cape town</td>\n",
       "      <td>20</td>\n",
       "      <td>ZA</td>\n",
       "      <td>1558378755</td>\n",
       "      <td>76</td>\n",
       "      <td>-33.93</td>\n",
       "      <td>18.42</td>\n",
       "      <td>55.99</td>\n",
       "      <td>8.05</td>\n",
       "    </tr>\n",
       "    <tr>\n",
       "      <td>...</td>\n",
       "      <td>...</td>\n",
       "      <td>...</td>\n",
       "      <td>...</td>\n",
       "      <td>...</td>\n",
       "      <td>...</td>\n",
       "      <td>...</td>\n",
       "      <td>...</td>\n",
       "      <td>...</td>\n",
       "      <td>...</td>\n",
       "      <td>...</td>\n",
       "    </tr>\n",
       "    <tr>\n",
       "      <td>543</td>\n",
       "      <td>543</td>\n",
       "      <td>yabrud</td>\n",
       "      <td>0</td>\n",
       "      <td>SY</td>\n",
       "      <td>1558378840</td>\n",
       "      <td>32</td>\n",
       "      <td>33.97</td>\n",
       "      <td>36.66</td>\n",
       "      <td>80.60</td>\n",
       "      <td>8.05</td>\n",
       "    </tr>\n",
       "    <tr>\n",
       "      <td>544</td>\n",
       "      <td>544</td>\n",
       "      <td>paraiso</td>\n",
       "      <td>5</td>\n",
       "      <td>MX</td>\n",
       "      <td>1558378898</td>\n",
       "      <td>4</td>\n",
       "      <td>24.01</td>\n",
       "      <td>-104.61</td>\n",
       "      <td>84.20</td>\n",
       "      <td>16.11</td>\n",
       "    </tr>\n",
       "    <tr>\n",
       "      <td>545</td>\n",
       "      <td>545</td>\n",
       "      <td>veraval</td>\n",
       "      <td>0</td>\n",
       "      <td>FR</td>\n",
       "      <td>1558378898</td>\n",
       "      <td>62</td>\n",
       "      <td>49.65</td>\n",
       "      <td>0.71</td>\n",
       "      <td>61.00</td>\n",
       "      <td>8.05</td>\n",
       "    </tr>\n",
       "    <tr>\n",
       "      <td>546</td>\n",
       "      <td>546</td>\n",
       "      <td>novyy urgal</td>\n",
       "      <td>100</td>\n",
       "      <td>RU</td>\n",
       "      <td>1558378899</td>\n",
       "      <td>93</td>\n",
       "      <td>51.07</td>\n",
       "      <td>132.56</td>\n",
       "      <td>49.74</td>\n",
       "      <td>2.68</td>\n",
       "    </tr>\n",
       "    <tr>\n",
       "      <td>547</td>\n",
       "      <td>547</td>\n",
       "      <td>tongren</td>\n",
       "      <td>4</td>\n",
       "      <td>CN</td>\n",
       "      <td>1558378899</td>\n",
       "      <td>64</td>\n",
       "      <td>27.72</td>\n",
       "      <td>109.18</td>\n",
       "      <td>55.86</td>\n",
       "      <td>2.84</td>\n",
       "    </tr>\n",
       "  </tbody>\n",
       "</table>\n",
       "<p>548 rows × 10 columns</p>\n",
       "</div>"
      ],
      "text/plain": [
       "     City_ID         City  Cloudiness Country        Date  Humidity    Lat  \\\n",
       "0          0    ostrovnoy           2      RU  1558378754        72  68.05   \n",
       "1          1    mahebourg          75      MU  1558378503        74 -20.41   \n",
       "2          2      qaanaaq          25      GL  1558378755        73  77.48   \n",
       "3          3       zhuhai           0      CN  1558378755        39  40.71   \n",
       "4          4    cape town          20      ZA  1558378755        76 -33.93   \n",
       "..       ...          ...         ...     ...         ...       ...    ...   \n",
       "543      543       yabrud           0      SY  1558378840        32  33.97   \n",
       "544      544      paraiso           5      MX  1558378898         4  24.01   \n",
       "545      545      veraval           0      FR  1558378898        62  49.65   \n",
       "546      546  novyy urgal         100      RU  1558378899        93  51.07   \n",
       "547      547      tongren           4      CN  1558378899        64  27.72   \n",
       "\n",
       "        Lng  Max Temp  Wind Speed  \n",
       "0     39.51     37.50        7.16  \n",
       "1     57.70     78.80       11.41  \n",
       "2    -69.36     22.20        2.37  \n",
       "3    112.04     44.60        4.47  \n",
       "4     18.42     55.99        8.05  \n",
       "..      ...       ...         ...  \n",
       "543   36.66     80.60        8.05  \n",
       "544 -104.61     84.20       16.11  \n",
       "545    0.71     61.00        8.05  \n",
       "546  132.56     49.74        2.68  \n",
       "547  109.18     55.86        2.84  \n",
       "\n",
       "[548 rows x 10 columns]"
      ]
     },
     "execution_count": 2,
     "metadata": {},
     "output_type": "execute_result"
    }
   ],
   "source": [
    "\n",
    "#Loading csv file\n",
    "csv_file = \"cities.csv\"\n",
    "#DataFrame\n",
    "weather_data_df = pd.read_csv(csv_file)\n",
    "\n",
    "url = \"http://api.openweathermap.org/data/2.5/weather?\"\n",
    "units = \"imperial\"\n",
    "# Build partial query URL\n",
    "#query_url = f\"{url}appid={api_key}&units={units}&q=\"\n",
    "\n",
    "\n",
    "weather_data_df"
   ]
  },
  {
   "cell_type": "code",
   "execution_count": 3,
   "metadata": {},
   "outputs": [
    {
     "name": "stdout",
     "output_type": "stream",
     "text": [
      "<Response [401]>\n",
      "{'cod': 401, 'message': 'Invalid API key. Please see http://openweathermap.org/faq#error401 for more info.'}\n"
     ]
    }
   ],
   "source": [
    "print(requests.get(url))\n",
    "print(requests.get(url).json())\n"
   ]
  },
  {
   "cell_type": "code",
   "execution_count": null,
   "metadata": {
    "scrolled": true
   },
   "outputs": [],
   "source": []
  },
  {
   "cell_type": "code",
   "execution_count": 4,
   "metadata": {},
   "outputs": [
    {
     "data": {
      "text/plain": [
       "589"
      ]
     },
     "execution_count": 4,
     "metadata": {},
     "output_type": "execute_result"
    }
   ],
   "source": [
    "# define url\n",
    "query_url = f\"http://api.openweathermap.org/data/2.5/weather?appid={api_key}&units={units}&q=\"\n",
    "\n",
    "#List holdings\n",
    "lat_lngs = []\n",
    "lat_lngs_list = []\n",
    "cities = []\n",
    "\n",
    "# Range of latitudes and longitudes\n",
    "lat_range = (-90, 90)\n",
    "lng_range = (-180, 180)\n",
    "\n",
    "#random generator\n",
    "lats = np.random.uniform(low=-90.000, high=90.000, size=1500)\n",
    "lngs = np.random.uniform(low=-180.000, high=180.000, size=1500)\n",
    "lat_lngs = zip(lats, lngs)\n",
    "\n",
    "#Counts\n",
    "count = 0\n",
    "number = 1\n",
    "\n",
    "#Loop\n",
    "for lat_lng in lat_lngs:\n",
    "    city = citipy.nearest_city(lat_lng[0], lat_lng[1]).city_name\n",
    "    if city not in cities:\n",
    "        cities.append(city)\n",
    "        lat_lngs_list.append(lat_lng)\n",
    "len(cities)"
   ]
  },
  {
   "cell_type": "code",
   "execution_count": 5,
   "metadata": {},
   "outputs": [
    {
     "data": {
      "text/html": [
       "<div>\n",
       "<style scoped>\n",
       "    .dataframe tbody tr th:only-of-type {\n",
       "        vertical-align: middle;\n",
       "    }\n",
       "\n",
       "    .dataframe tbody tr th {\n",
       "        vertical-align: top;\n",
       "    }\n",
       "\n",
       "    .dataframe thead th {\n",
       "        text-align: right;\n",
       "    }\n",
       "</style>\n",
       "<table border=\"1\" class=\"dataframe\">\n",
       "  <thead>\n",
       "    <tr style=\"text-align: right;\">\n",
       "      <th></th>\n",
       "      <th>city</th>\n",
       "      <th>lat_lngs</th>\n",
       "    </tr>\n",
       "  </thead>\n",
       "  <tbody>\n",
       "    <tr>\n",
       "      <td>0</td>\n",
       "      <td>port elizabeth</td>\n",
       "      <td>(-55.16907636823593, 31.162939023310287)</td>\n",
       "    </tr>\n",
       "    <tr>\n",
       "      <td>1</td>\n",
       "      <td>souillac</td>\n",
       "      <td>(-60.62512122222894, 77.88948270274989)</td>\n",
       "    </tr>\n",
       "    <tr>\n",
       "      <td>2</td>\n",
       "      <td>brae</td>\n",
       "      <td>(68.85784957195071, -1.0934722189695378)</td>\n",
       "    </tr>\n",
       "    <tr>\n",
       "      <td>3</td>\n",
       "      <td>partyzany</td>\n",
       "      <td>(46.43556809594884, 34.56798296276665)</td>\n",
       "    </tr>\n",
       "    <tr>\n",
       "      <td>4</td>\n",
       "      <td>tuktoyaktuk</td>\n",
       "      <td>(78.07625440657495, -128.41289714148002)</td>\n",
       "    </tr>\n",
       "    <tr>\n",
       "      <td>...</td>\n",
       "      <td>...</td>\n",
       "      <td>...</td>\n",
       "    </tr>\n",
       "    <tr>\n",
       "      <td>584</td>\n",
       "      <td>bilma</td>\n",
       "      <td>(17.257387583240202, 12.55148766047742)</td>\n",
       "    </tr>\n",
       "    <tr>\n",
       "      <td>585</td>\n",
       "      <td>nevsehir</td>\n",
       "      <td>(38.532554602914814, 34.47504475044411)</td>\n",
       "    </tr>\n",
       "    <tr>\n",
       "      <td>586</td>\n",
       "      <td>doha</td>\n",
       "      <td>(29.14856770346077, 47.29534602678595)</td>\n",
       "    </tr>\n",
       "    <tr>\n",
       "      <td>587</td>\n",
       "      <td>chagda</td>\n",
       "      <td>(57.372312532986655, 132.35722479663167)</td>\n",
       "    </tr>\n",
       "    <tr>\n",
       "      <td>588</td>\n",
       "      <td>callaway</td>\n",
       "      <td>(29.478651922279866, -85.5822153972153)</td>\n",
       "    </tr>\n",
       "  </tbody>\n",
       "</table>\n",
       "<p>589 rows × 2 columns</p>\n",
       "</div>"
      ],
      "text/plain": [
       "               city                                  lat_lngs\n",
       "0    port elizabeth  (-55.16907636823593, 31.162939023310287)\n",
       "1          souillac   (-60.62512122222894, 77.88948270274989)\n",
       "2              brae  (68.85784957195071, -1.0934722189695378)\n",
       "3         partyzany    (46.43556809594884, 34.56798296276665)\n",
       "4       tuktoyaktuk  (78.07625440657495, -128.41289714148002)\n",
       "..              ...                                       ...\n",
       "584           bilma   (17.257387583240202, 12.55148766047742)\n",
       "585        nevsehir   (38.532554602914814, 34.47504475044411)\n",
       "586            doha    (29.14856770346077, 47.29534602678595)\n",
       "587          chagda  (57.372312532986655, 132.35722479663167)\n",
       "588        callaway   (29.478651922279866, -85.5822153972153)\n",
       "\n",
       "[589 rows x 2 columns]"
      ]
     },
     "execution_count": 5,
     "metadata": {},
     "output_type": "execute_result"
    }
   ],
   "source": [
    "#Create dataframe with list of cities\n",
    "df = pd.DataFrame(cities)\n",
    "df = df.rename(columns={0: 'city'})\n",
    "df['lat_lngs'] = lat_lngs_list\n",
    "df\n",
    "\n",
    "\n"
   ]
  },
  {
   "cell_type": "code",
   "execution_count": null,
   "metadata": {},
   "outputs": [],
   "source": [
    "\n"
   ]
  },
  {
   "cell_type": "code",
   "execution_count": 6,
   "metadata": {},
   "outputs": [],
   "source": [
    "#Create list holds\n",
    "temp = []\n",
    "max_temp = []\n",
    "humidity = []\n",
    "wind_speed = []\n",
    "clouds = []\n",
    "\n"
   ]
  },
  {
   "cell_type": "code",
   "execution_count": 7,
   "metadata": {},
   "outputs": [
    {
     "name": "stdout",
     "output_type": "stream",
     "text": [
      "Processing City Records 1 : port elizabeth\n",
      "Processing City Records 2 : souillac\n",
      "Processing City Records 3 : brae\n",
      "Processing City Records 4 : partyzany\n",
      "Processing City Records 5 : tuktoyaktuk\n",
      "Processing City Records 6 : khatanga\n",
      "Processing City Records 7 : tapaua\n",
      "Processing City Records 8 : tabou\n",
      "Processing City Records 9 : mogadishu\n",
      "Processing City Records 10 : bethel\n",
      "Processing City Records 11 : acarau\n",
      "Processing City Records 12 : sitio novo do tocantins\n",
      "Processing City Records 13 : galgani\n",
      "Processing City Records 14 : maneadero\n",
      "Processing City Records 15 : tabiauea\n",
      "Processing City Records 16 : vardo\n",
      "Processing City Records 17 : vaini\n",
      "Processing City Records 18 : barentsburg\n",
      "Processing City Records 19 : raudeberg\n",
      "Processing City Records 20 : bluff\n",
      "Processing City Records 21 : busselton\n",
      "Processing City Records 22 : pevek\n",
      "Processing City Records 23 : tsihombe\n",
      "Processing City Records 24 : micheweni\n",
      "Processing City Records 25 : rikitea\n",
      "Processing City Records 26 : nantucket\n",
      "Processing City Records 27 : thompson\n",
      "Processing City Records 28 : port alfred\n",
      "Processing City Records 29 : mataura\n",
      "Processing City Records 30 : castro\n",
      "Processing City Records 31 : punta arenas\n",
      "Processing City Records 32 : sedlcany\n",
      "Processing City Records 33 : kavieng\n",
      "Processing City Records 34 : avarua\n",
      "Processing City Records 35 : noumea\n",
      "Processing City Records 36 : victoria\n",
      "Processing City Records 37 : poum\n",
      "Processing City Records 38 : klaksvik\n",
      "Processing City Records 39 : cienfuegos\n",
      "Processing City Records 40 : dawson creek\n",
      "Processing City Records 41 : attawapiskat\n",
      "Processing City Records 42 : hilo\n",
      "Processing City Records 43 : nanortalik\n",
      "Processing City Records 44 : tawkar\n",
      "Processing City Records 45 : lata\n",
      "Processing City Records 46 : le port\n",
      "Processing City Records 47 : airai\n",
      "Processing City Records 48 : ancud\n",
      "Processing City Records 49 : zhezkazgan\n",
      "Processing City Records 50 : atuona\n",
      "Processing City Records 51 : hithadhoo\n",
      "Processing City Records 52 : magadan\n",
      "Processing City Records 53 : kaputa\n",
      "Processing City Records 54 : sentyabrskiy\n",
      "Processing City Records 55 : lovozero\n",
      "Processing City Records 56 : arraial do cabo\n",
      "Processing City Records 57 : kapaa\n",
      "Processing City Records 58 : broome\n",
      "Processing City Records 59 : illoqqortoormiut\n",
      "Processing City Records 60 : darapidap\n",
      "Processing City Records 61 : saskylakh\n",
      "Processing City Records 62 : dubbo\n",
      "Processing City Records 63 : mutsamudu\n",
      "Processing City Records 64 : vila franca do campo\n",
      "Processing City Records 65 : xiongzhou\n",
      "Processing City Records 66 : kruisfontein\n",
      "Processing City Records 67 : georgetown\n",
      "Processing City Records 68 : provideniya\n",
      "Processing City Records 69 : malpe\n",
      "Processing City Records 70 : port augusta\n",
      "Processing City Records 71 : mount isa\n",
      "Processing City Records 72 : mahebourg\n",
      "Processing City Records 73 : ushuaia\n",
      "Processing City Records 74 : mar del plata\n",
      "Processing City Records 75 : butaritari\n",
      "Processing City Records 76 : hobart\n",
      "Processing City Records 77 : belushya guba\n",
      "Processing City Records 78 : dodoma\n",
      "Processing City Records 79 : amga\n",
      "Processing City Records 80 : huazolotitlan\n",
      "Processing City Records 81 : ponta do sol\n",
      "Processing City Records 82 : cherskiy\n",
      "Processing City Records 83 : luziania\n",
      "Processing City Records 84 : cumberland\n",
      "Processing City Records 85 : geraldton\n",
      "Processing City Records 86 : albany\n",
      "Processing City Records 87 : qaanaaq\n",
      "Processing City Records 88 : porlamar\n",
      "Processing City Records 89 : taolanaro\n",
      "Processing City Records 90 : roma\n",
      "Processing City Records 91 : meulaboh\n",
      "Processing City Records 92 : prykolotne\n",
      "Processing City Records 93 : luganville\n",
      "Processing City Records 94 : sosua\n",
      "Processing City Records 95 : new norfolk\n",
      "Processing City Records 96 : umzimvubu\n",
      "Processing City Records 97 : barrow\n",
      "Processing City Records 98 : iqaluit\n",
      "Processing City Records 99 : salalah\n",
      "Processing City Records 100 : chokurdakh\n",
      "Processing City Records 101 : teguise\n",
      "Processing City Records 102 : east london\n",
      "Processing City Records 103 : santa cruz de la palma\n",
      "Processing City Records 104 : koungou\n",
      "Processing City Records 105 : saint-augustin\n",
      "Processing City Records 106 : lattes\n",
      "Processing City Records 107 : kismayo\n",
      "Processing City Records 108 : tasiilaq\n",
      "Processing City Records 109 : nizwa\n",
      "Processing City Records 110 : honningsvag\n",
      "Processing City Records 111 : saldanha\n",
      "Processing City Records 112 : bredasdorp\n",
      "Processing City Records 113 : cape town\n",
      "Processing City Records 114 : alofi\n",
      "Processing City Records 115 : visby\n",
      "Processing City Records 116 : pisco\n",
      "Processing City Records 117 : oskarshamn\n",
      "Processing City Records 118 : tiksi\n",
      "Processing City Records 119 : tuggurt\n",
      "Processing City Records 120 : coihaique\n",
      "Processing City Records 121 : lebu\n",
      "Processing City Records 122 : hasaki\n",
      "Processing City Records 123 : palabuhanratu\n",
      "Processing City Records 124 : sinjar\n",
      "Processing City Records 125 : mindelo\n",
      "Processing City Records 126 : vanavara\n",
      "Processing City Records 127 : puerto ayora\n",
      "Processing City Records 128 : vestmannaeyjar\n",
      "Processing City Records 129 : broken hill\n",
      "Processing City Records 130 : shahreza\n",
      "Processing City Records 131 : carnarvon\n",
      "Processing City Records 132 : fereydun kenar\n",
      "Processing City Records 133 : kousseri\n",
      "Processing City Records 134 : richards bay\n",
      "Processing City Records 135 : ankpa\n",
      "Processing City Records 136 : aflu\n",
      "Processing City Records 137 : shalinskoye\n",
      "Processing City Records 138 : olafsvik\n",
      "Processing City Records 139 : naftah\n",
      "Processing City Records 140 : tumannyy\n",
      "Processing City Records 141 : tigil\n",
      "Processing City Records 142 : rawannawi\n",
      "Processing City Records 143 : nelson bay\n",
      "Processing City Records 144 : tunduru\n",
      "Processing City Records 145 : pochutla\n",
      "Processing City Records 146 : biltine\n",
      "Processing City Records 147 : laguna\n",
      "Processing City Records 148 : itarema\n",
      "Processing City Records 149 : reconquista\n",
      "Processing City Records 150 : lorengau\n",
      "Processing City Records 151 : yatou\n",
      "Processing City Records 152 : yokaichiba\n",
      "Processing City Records 153 : honiara\n",
      "Processing City Records 154 : yellowknife\n",
      "Processing City Records 155 : aliwal north\n",
      "Processing City Records 156 : arequipa\n",
      "Processing City Records 157 : adrar\n",
      "Processing City Records 158 : fortuna\n",
      "Processing City Records 159 : miranda\n",
      "Processing City Records 160 : ust-tsilma\n",
      "Processing City Records 161 : tarakan\n",
      "Processing City Records 162 : matadi\n",
      "Processing City Records 163 : jamestown\n",
      "Processing City Records 164 : diamantino\n",
      "Processing City Records 165 : ballina\n",
      "Processing City Records 166 : amderma\n",
      "Processing City Records 167 : hukuntsi\n",
      "Processing City Records 168 : iracoubo\n",
      "Processing City Records 169 : mandalgovi\n",
      "Processing City Records 170 : mildura\n",
      "Processing City Records 171 : saint george\n",
      "Processing City Records 172 : beyneu\n",
      "Processing City Records 173 : chegem\n",
      "Processing City Records 174 : biak\n",
      "Processing City Records 175 : kudahuvadhoo\n",
      "Processing City Records 176 : north bend\n",
      "Processing City Records 177 : moose factory\n",
      "Processing City Records 178 : galle\n",
      "Processing City Records 179 : maldonado\n",
      "Processing City Records 180 : torbay\n",
      "Processing City Records 181 : strezhevoy\n",
      "Processing City Records 182 : portland\n",
      "Processing City Records 183 : porto velho\n",
      "Processing City Records 184 : porto tolle\n",
      "Processing City Records 185 : arkhipo-osipovka\n",
      "Processing City Records 186 : aasiaat\n",
      "Processing City Records 187 : san quintin\n",
      "Processing City Records 188 : sorvag\n",
      "Processing City Records 189 : rio grande\n",
      "Processing City Records 190 : nogliki\n",
      "Processing City Records 191 : namibe\n",
      "Processing City Records 192 : upernavik\n",
      "Processing City Records 193 : asau\n",
      "Processing City Records 194 : nizhneyansk\n",
      "Processing City Records 195 : bloomfield\n",
      "Processing City Records 196 : mumford\n",
      "Processing City Records 197 : forrest city\n",
      "Processing City Records 198 : mae sot\n",
      "Processing City Records 199 : guerrero negro\n",
      "Processing City Records 200 : necochea\n",
      "Processing City Records 201 : paita\n",
      "Processing City Records 202 : tuatapere\n",
      "Processing City Records 203 : ulety\n",
      "Processing City Records 204 : nizhnevartovsk\n",
      "Processing City Records 205 : port hedland\n",
      "Processing City Records 206 : lindas\n",
      "Processing City Records 207 : kahului\n",
      "Processing City Records 208 : port blair\n",
      "Processing City Records 209 : lamlash\n",
      "Processing City Records 210 : pyatovskiy\n",
      "Processing City Records 211 : the valley\n"
     ]
    },
    {
     "name": "stdout",
     "output_type": "stream",
     "text": [
      "Processing City Records 212 : sumbe\n",
      "Processing City Records 213 : nsanje\n",
      "Processing City Records 214 : lisala\n",
      "Processing City Records 215 : komsomolets\n",
      "Processing City Records 216 : mullaitivu\n",
      "Processing City Records 217 : cabedelo\n",
      "Processing City Records 218 : bosanski brod\n",
      "Processing City Records 219 : nhulunbuy\n",
      "Processing City Records 220 : swan hill\n",
      "Processing City Records 221 : bedele\n",
      "Processing City Records 222 : kutum\n",
      "Processing City Records 223 : muros\n",
      "Processing City Records 224 : chuy\n",
      "Processing City Records 225 : lima\n",
      "Processing City Records 226 : douglas\n",
      "Processing City Records 227 : arlit\n",
      "Processing City Records 228 : chapais\n",
      "Processing City Records 229 : vaitupu\n",
      "Processing City Records 230 : sao filipe\n",
      "Processing City Records 231 : hargeysa\n",
      "Processing City Records 232 : hamilton\n",
      "Processing City Records 233 : dikson\n",
      "Processing City Records 234 : cidreira\n",
      "Processing City Records 235 : arvika\n",
      "Processing City Records 236 : verkhoyansk\n",
      "Processing City Records 237 : russell\n",
      "Processing City Records 238 : grindavik\n",
      "Processing City Records 239 : vryheid\n",
      "Processing City Records 240 : balimo\n",
      "Processing City Records 241 : talaja\n",
      "Processing City Records 242 : fuerte olimpo\n",
      "Processing City Records 243 : turan\n",
      "Processing City Records 244 : longyan\n",
      "Processing City Records 245 : amahai\n",
      "Processing City Records 246 : hermanus\n",
      "Processing City Records 247 : severo-kurilsk\n",
      "Processing City Records 248 : merida\n",
      "Processing City Records 249 : hrodna\n",
      "Processing City Records 250 : bol\n",
      "Processing City Records 251 : touros\n",
      "Processing City Records 252 : kirakira\n",
      "Processing City Records 253 : egvekinot\n",
      "Processing City Records 254 : florianopolis\n",
      "Processing City Records 255 : uniontown\n",
      "Processing City Records 256 : mayumba\n",
      "Processing City Records 257 : saint-philippe\n",
      "Processing City Records 258 : podgorodnyaya pokrovka\n",
      "Processing City Records 259 : havelock\n",
      "Processing City Records 260 : katsuura\n",
      "Processing City Records 261 : baykit\n",
      "Processing City Records 262 : waddan\n",
      "Processing City Records 263 : yulara\n",
      "Processing City Records 264 : constitucion\n",
      "Processing City Records 265 : codrington\n",
      "Processing City Records 266 : ahipara\n",
      "Processing City Records 267 : pacific grove\n",
      "Processing City Records 268 : shingu\n",
      "Processing City Records 269 : leningradskiy\n",
      "Processing City Records 270 : shibarghan\n",
      "Processing City Records 271 : grand forks\n",
      "Processing City Records 272 : batagay-alyta\n",
      "Processing City Records 273 : sydney\n",
      "Processing City Records 274 : narsaq\n",
      "Processing City Records 275 : garden city\n",
      "Processing City Records 276 : mkushi\n",
      "Processing City Records 277 : parras\n",
      "Processing City Records 278 : ivancice\n",
      "Processing City Records 279 : balabac\n",
      "Processing City Records 280 : skagastrond\n",
      "Processing City Records 281 : luderitz\n",
      "Processing City Records 282 : altay\n",
      "Processing City Records 283 : porbandar\n",
      "Processing City Records 284 : port macquarie\n",
      "Processing City Records 285 : hofn\n",
      "Processing City Records 286 : tecoanapa\n",
      "Processing City Records 287 : nikolskoye\n",
      "Processing City Records 288 : dandong\n",
      "Processing City Records 289 : nome\n",
      "Processing City Records 290 : hambantota\n",
      "Processing City Records 291 : huarmey\n",
      "Processing City Records 292 : karasburg\n",
      "Processing City Records 293 : grand river south east\n",
      "Processing City Records 294 : alyangula\n",
      "Processing City Records 295 : husavik\n",
      "Processing City Records 296 : inirida\n",
      "Processing City Records 297 : stawell\n",
      "Processing City Records 298 : atambua\n",
      "Processing City Records 299 : samusu\n",
      "Processing City Records 300 : wilmington\n",
      "Processing City Records 301 : jiquipilas\n",
      "Processing City Records 302 : urusha\n",
      "Processing City Records 303 : weyburn\n",
      "Processing City Records 304 : lagoa\n",
      "Processing City Records 305 : one hundred mile house\n",
      "Processing City Records 306 : bengkulu\n",
      "Processing City Records 307 : pierre\n",
      "Processing City Records 308 : cabo san lucas\n",
      "Processing City Records 309 : iskateley\n",
      "Processing City Records 310 : taltal\n",
      "Processing City Records 311 : gimli\n",
      "Processing City Records 312 : kajaani\n",
      "Processing City Records 313 : kaduqli\n",
      "Processing City Records 314 : puerto escondido\n",
      "Processing City Records 315 : atar\n",
      "Processing City Records 316 : jimma\n",
      "Processing City Records 317 : la ronge\n",
      "Processing City Records 318 : kodiak\n",
      "Processing City Records 319 : norman wells\n",
      "Processing City Records 320 : chibombo\n",
      "Processing City Records 321 : progreso\n",
      "Processing City Records 322 : deming\n",
      "Processing City Records 323 : pereslavl-zalesskiy\n",
      "Processing City Records 324 : ishigaki\n",
      "Processing City Records 325 : hokitika\n",
      "Processing City Records 326 : sao joao da barra\n",
      "Processing City Records 327 : san patricio\n",
      "Processing City Records 328 : faanui\n",
      "Processing City Records 329 : lompoc\n",
      "Processing City Records 330 : boden\n",
      "Processing City Records 331 : thomasville\n",
      "Processing City Records 332 : pingzhuang\n",
      "Processing City Records 333 : tottori\n",
      "Processing City Records 334 : suwannaphum\n",
      "Processing City Records 335 : kondoa\n",
      "Processing City Records 336 : petrovsk\n",
      "Processing City Records 337 : howard springs\n",
      "Processing City Records 338 : mpanda\n",
      "Processing City Records 339 : kanel\n",
      "Processing City Records 340 : aljezur\n",
      "Processing City Records 341 : payo\n",
      "Processing City Records 342 : flinders\n",
      "Processing City Records 343 : louisbourg\n",
      "Processing City Records 344 : terrace bay\n",
      "Processing City Records 345 : heihe\n",
      "Processing City Records 346 : uglovskoye\n",
      "Processing City Records 347 : tilichiki\n",
      "Processing City Records 348 : kununurra\n",
      "Processing City Records 349 : lixourion\n",
      "Processing City Records 350 : coruripe\n",
      "Processing City Records 351 : lang suan\n",
      "Processing City Records 352 : saint anthony\n",
      "Processing City Records 353 : formoso do araguaia\n",
      "Processing City Records 354 : san andres\n",
      "Processing City Records 355 : plettenberg bay\n",
      "Processing City Records 356 : derbent\n",
      "Processing City Records 357 : umm lajj\n",
      "Processing City Records 358 : ambilobe\n",
      "Processing City Records 359 : acapulco\n",
      "Processing City Records 360 : ribeira grande\n",
      "Processing City Records 361 : esfarayen\n",
      "Processing City Records 362 : bambous virieux\n",
      "Processing City Records 363 : bandarbeyla\n",
      "Processing City Records 364 : isla mujeres\n",
      "Processing City Records 365 : port hawkesbury\n",
      "Processing City Records 366 : cayenne\n",
      "Processing City Records 367 : denpasar\n",
      "Processing City Records 368 : quelimane\n",
      "Processing City Records 369 : valparaiso\n",
      "Processing City Records 370 : christchurch\n",
      "Processing City Records 371 : brandfort\n",
      "Processing City Records 372 : matara\n",
      "Processing City Records 373 : leh\n",
      "Processing City Records 374 : inhambane\n",
      "Processing City Records 375 : isangel\n",
      "Processing City Records 376 : vilhena\n",
      "Processing City Records 377 : general roca\n",
      "Processing City Records 378 : dalby\n",
      "Processing City Records 379 : baruun-urt\n",
      "Processing City Records 380 : kazalinsk\n",
      "Processing City Records 381 : bereda\n",
      "Processing City Records 382 : buchanan\n",
      "Processing City Records 383 : sorland\n",
      "Processing City Records 384 : kalispell\n",
      "Processing City Records 385 : araguacu\n",
      "Processing City Records 386 : gladstone\n",
      "Processing City Records 387 : itacarambi\n",
      "Processing City Records 388 : ostrovnoy\n",
      "Processing City Records 389 : bull savanna\n",
      "Processing City Records 390 : ahuimanu\n",
      "Processing City Records 391 : odate\n",
      "Processing City Records 392 : namatanai\n",
      "Processing City Records 393 : tsiroanomandidy\n",
      "Processing City Records 394 : vanimo\n",
      "Processing City Records 395 : peterongan\n",
      "Processing City Records 396 : lavrentiya\n",
      "Processing City Records 397 : longyearbyen\n",
      "Processing City Records 398 : casablanca\n",
      "Processing City Records 399 : esperance\n",
      "Processing City Records 400 : aquiraz\n",
      "Processing City Records 401 : aberdeen\n",
      "Processing City Records 402 : pangnirtung\n",
      "Processing City Records 403 : abu zabad\n",
      "Processing City Records 404 : faya\n",
      "Processing City Records 405 : sarkand\n",
      "Processing City Records 406 : omsukchan\n",
      "Processing City Records 407 : price\n",
      "Processing City Records 408 : saint-georges\n",
      "Processing City Records 409 : jumla\n",
      "Processing City Records 410 : tazovskiy\n",
      "Processing City Records 411 : tarudant\n",
      "Processing City Records 412 : maniitsoq\n",
      "Processing City Records 413 : lasa\n",
      "Processing City Records 414 : daru\n",
      "Processing City Records 415 : srednekolymsk\n",
      "Processing City Records 416 : alta floresta\n",
      "Processing City Records 417 : yar-sale\n",
      "Processing City Records 418 : pangody\n"
     ]
    },
    {
     "name": "stdout",
     "output_type": "stream",
     "text": [
      "Processing City Records 419 : nea karia\n",
      "Processing City Records 420 : pawayan\n",
      "Processing City Records 421 : la asuncion\n",
      "Processing City Records 422 : ilulissat\n",
      "Processing City Records 423 : pinega\n",
      "Processing City Records 424 : kailua\n",
      "Processing City Records 425 : jiexiu\n",
      "Processing City Records 426 : hella\n",
      "Processing City Records 427 : vila velha\n",
      "Processing City Records 428 : turayf\n",
      "Processing City Records 429 : binzhou\n",
      "Processing City Records 430 : lunenburg\n",
      "Processing City Records 431 : linhares\n",
      "Processing City Records 432 : itarantim\n",
      "Processing City Records 433 : kaitangata\n",
      "Processing City Records 434 : tabuk\n",
      "Processing City Records 435 : conde\n",
      "Processing City Records 436 : eirunepe\n",
      "Processing City Records 437 : kandrian\n",
      "Processing City Records 438 : great yarmouth\n",
      "Processing City Records 439 : aracaju\n",
      "Processing City Records 440 : gat\n",
      "Processing City Records 441 : znamenskoye\n",
      "Processing City Records 442 : buncrana\n",
      "Processing City Records 443 : newala\n",
      "Processing City Records 444 : gamba\n",
      "Processing City Records 445 : mandapam\n",
      "Processing City Records 446 : abu samrah\n",
      "Processing City Records 447 : eidsvag\n",
      "Processing City Records 448 : cortez\n",
      "Processing City Records 449 : gambela\n",
      "Processing City Records 450 : tura\n",
      "Processing City Records 451 : belmonte\n",
      "Processing City Records 452 : yeppoon\n",
      "Processing City Records 453 : mys shmidta\n",
      "Processing City Records 454 : eyl\n",
      "Processing City Records 455 : berdigestyakh\n",
      "Processing City Records 456 : talnakh\n",
      "Processing City Records 457 : zarate\n",
      "Processing City Records 458 : rovaniemi\n",
      "Processing City Records 459 : isabela\n",
      "Processing City Records 460 : dingle\n",
      "Processing City Records 461 : taldan\n",
      "Processing City Records 462 : oistins\n",
      "Processing City Records 463 : przhevalskoye\n",
      "Processing City Records 464 : dalnerechensk\n",
      "Processing City Records 465 : karratha\n",
      "Processing City Records 466 : santa fe\n",
      "Processing City Records 467 : mehamn\n",
      "Processing City Records 468 : nokha\n",
      "Processing City Records 469 : kracheh\n",
      "Processing City Records 470 : asfi\n",
      "Processing City Records 471 : kamariotissa\n",
      "Processing City Records 472 : lalomanu\n",
      "Processing City Records 473 : tupaciguara\n",
      "Processing City Records 474 : viedma\n",
      "Processing City Records 475 : ixtapa\n",
      "Processing City Records 476 : llanes\n",
      "Processing City Records 477 : doka\n",
      "Processing City Records 478 : lusambo\n",
      "Processing City Records 479 : san\n",
      "Processing City Records 480 : joensuu\n",
      "Processing City Records 481 : chara\n",
      "Processing City Records 482 : sakakah\n",
      "Processing City Records 483 : rocha\n",
      "Processing City Records 484 : zhigansk\n",
      "Processing City Records 485 : batemans bay\n",
      "Processing City Records 486 : malartic\n",
      "Processing City Records 487 : cumaribo\n",
      "Processing City Records 488 : bafq\n",
      "Processing City Records 489 : colon\n",
      "Processing City Records 490 : coahuayana\n",
      "Processing City Records 491 : ferkessedougou\n",
      "Processing City Records 492 : khasan\n",
      "Processing City Records 493 : stony plain\n",
      "Processing City Records 494 : port lincoln\n",
      "Processing City Records 495 : saint-pierre\n",
      "Processing City Records 496 : mbuji-mayi\n",
      "Processing City Records 497 : garissa\n",
      "Processing City Records 498 : port-gentil\n",
      "Processing City Records 499 : hervey bay\n",
      "Processing City Records 500 : coquimbo\n",
      "Processing City Records 501 : miyako\n",
      "Processing City Records 502 : campo maior\n",
      "Processing City Records 503 : rawlins\n",
      "Processing City Records 504 : malwan\n",
      "Processing City Records 505 : lushunkou\n",
      "Processing City Records 506 : wahran\n",
      "Processing City Records 507 : omaruru\n",
      "Processing City Records 508 : janakpur road\n",
      "Processing City Records 509 : chauk\n",
      "Processing City Records 510 : auka\n",
      "Processing City Records 511 : marsaxlokk\n",
      "Processing City Records 512 : comodoro rivadavia\n",
      "Processing City Records 513 : howell\n",
      "Processing City Records 514 : houma\n",
      "Processing City Records 515 : bhola\n",
      "Processing City Records 516 : xichang\n",
      "Processing City Records 517 : black river\n",
      "Processing City Records 518 : kanigoro\n",
      "Processing City Records 519 : catamarca\n",
      "Processing City Records 520 : sept-iles\n",
      "Processing City Records 521 : beloha\n",
      "Processing City Records 522 : baker city\n",
      "Processing City Records 523 : andilamena\n",
      "Processing City Records 524 : bodden town\n",
      "Processing City Records 525 : fairbanks\n",
      "Processing City Records 526 : ouadda\n",
      "Processing City Records 527 : ende\n",
      "Processing City Records 528 : mbanza-ngungu\n",
      "Processing City Records 529 : kidal\n",
      "Processing City Records 530 : preobrazheniye\n",
      "Processing City Records 531 : taoyuan\n",
      "Processing City Records 532 : kennett\n",
      "Processing City Records 533 : nancha\n",
      "Processing City Records 534 : emerald\n",
      "Processing City Records 535 : aklavik\n",
      "Processing City Records 536 : kushmurun\n",
      "Processing City Records 537 : jaciara\n",
      "Processing City Records 538 : beringovskiy\n",
      "Processing City Records 539 : mount gambier\n",
      "Processing City Records 540 : savannah bight\n",
      "Processing City Records 541 : najran\n",
      "Processing City Records 542 : xiongyue\n",
      "Processing City Records 543 : iaciara\n",
      "Processing City Records 544 : pompeu\n",
      "Processing City Records 545 : markova\n",
      "Processing City Records 546 : bouza\n",
      "Processing City Records 547 : antalaha\n",
      "Processing City Records 548 : kuche\n",
      "Processing City Records 549 : bowmore\n",
      "Processing City Records 550 : mmabatho\n",
      "Processing City Records 551 : buala\n",
      "Processing City Records 552 : frutal\n",
      "Processing City Records 553 : manicore\n",
      "Processing City Records 554 : smithers\n",
      "Processing City Records 555 : itanhaem\n",
      "Processing City Records 556 : kharp\n",
      "Processing City Records 557 : myitkyina\n",
      "Processing City Records 558 : kamenskoye\n",
      "Processing City Records 559 : ayorou\n",
      "Processing City Records 560 : kayerkan\n",
      "Processing City Records 561 : dhidhdhoo\n",
      "Processing City Records 562 : mwinilunga\n",
      "Processing City Records 563 : sabratah\n",
      "Processing City Records 564 : severomuysk\n",
      "Processing City Records 565 : hihifo\n",
      "Processing City Records 566 : san jose\n",
      "Processing City Records 567 : sayat\n",
      "Processing City Records 568 : hami\n",
      "Processing City Records 569 : rawah\n",
      "Processing City Records 570 : ponta delgada\n",
      "Processing City Records 571 : obera\n",
      "Processing City Records 572 : minab\n",
      "Processing City Records 573 : mnogovershinnyy\n",
      "Processing City Records 574 : yelizovo\n",
      "Processing City Records 575 : rudnogorsk\n",
      "Processing City Records 576 : padang\n",
      "Processing City Records 577 : palasa\n",
      "Processing City Records 578 : batagay\n",
      "Processing City Records 579 : kuusamo\n",
      "Processing City Records 580 : krasnoselkup\n",
      "Processing City Records 581 : rumford\n",
      "Processing City Records 582 : doctor pedro p. pena\n",
      "Processing City Records 583 : turbat\n",
      "Processing City Records 584 : qaqortoq\n",
      "Processing City Records 585 : bilma\n",
      "Processing City Records 586 : nevsehir\n",
      "Processing City Records 587 : doha\n",
      "Processing City Records 588 : chagda\n",
      "Processing City Records 589 : callaway\n",
      "City not found\n",
      "----------------------\n",
      "Complete\n"
     ]
    },
    {
     "ename": "ValueError",
     "evalue": "Length of values does not match length of index",
     "output_type": "error",
     "traceback": [
      "\u001b[1;31m---------------------------------------------------------------------------\u001b[0m",
      "\u001b[1;31mValueError\u001b[0m                                Traceback (most recent call last)",
      "\u001b[1;32m<ipython-input-7-70bbbdf1dcef>\u001b[0m in \u001b[0;36m<module>\u001b[1;34m\u001b[0m\n\u001b[0;32m     18\u001b[0m \u001b[0mprint\u001b[0m\u001b[1;33m(\u001b[0m\u001b[1;34m\"Complete\"\u001b[0m\u001b[1;33m)\u001b[0m\u001b[1;33m\u001b[0m\u001b[1;33m\u001b[0m\u001b[0m\n\u001b[0;32m     19\u001b[0m \u001b[1;33m\u001b[0m\u001b[0m\n\u001b[1;32m---> 20\u001b[1;33m \u001b[0mdf\u001b[0m\u001b[1;33m[\u001b[0m\u001b[1;34m\"Temperature\"\u001b[0m\u001b[1;33m]\u001b[0m\u001b[1;33m=\u001b[0m\u001b[0mtemp\u001b[0m\u001b[1;33m\u001b[0m\u001b[1;33m\u001b[0m\u001b[0m\n\u001b[0m\u001b[0;32m     21\u001b[0m \u001b[0mdf\u001b[0m\u001b[1;33m[\u001b[0m\u001b[1;34m\"Max Temperature\"\u001b[0m\u001b[1;33m]\u001b[0m\u001b[1;33m=\u001b[0m\u001b[0mmax_temp\u001b[0m\u001b[1;33m\u001b[0m\u001b[1;33m\u001b[0m\u001b[0m\n\u001b[0;32m     22\u001b[0m \u001b[0mdf\u001b[0m\u001b[1;33m[\u001b[0m\u001b[1;34m\"Humidity\"\u001b[0m\u001b[1;33m]\u001b[0m\u001b[1;33m=\u001b[0m\u001b[0mhumidity\u001b[0m\u001b[1;33m\u001b[0m\u001b[1;33m\u001b[0m\u001b[0m\n",
      "\u001b[1;32m~\\Anaconda3\\lib\\site-packages\\pandas\\core\\frame.py\u001b[0m in \u001b[0;36m__setitem__\u001b[1;34m(self, key, value)\u001b[0m\n\u001b[0;32m   3470\u001b[0m         \u001b[1;32melse\u001b[0m\u001b[1;33m:\u001b[0m\u001b[1;33m\u001b[0m\u001b[1;33m\u001b[0m\u001b[0m\n\u001b[0;32m   3471\u001b[0m             \u001b[1;31m# set column\u001b[0m\u001b[1;33m\u001b[0m\u001b[1;33m\u001b[0m\u001b[1;33m\u001b[0m\u001b[0m\n\u001b[1;32m-> 3472\u001b[1;33m             \u001b[0mself\u001b[0m\u001b[1;33m.\u001b[0m\u001b[0m_set_item\u001b[0m\u001b[1;33m(\u001b[0m\u001b[0mkey\u001b[0m\u001b[1;33m,\u001b[0m \u001b[0mvalue\u001b[0m\u001b[1;33m)\u001b[0m\u001b[1;33m\u001b[0m\u001b[1;33m\u001b[0m\u001b[0m\n\u001b[0m\u001b[0;32m   3473\u001b[0m \u001b[1;33m\u001b[0m\u001b[0m\n\u001b[0;32m   3474\u001b[0m     \u001b[1;32mdef\u001b[0m \u001b[0m_setitem_slice\u001b[0m\u001b[1;33m(\u001b[0m\u001b[0mself\u001b[0m\u001b[1;33m,\u001b[0m \u001b[0mkey\u001b[0m\u001b[1;33m,\u001b[0m \u001b[0mvalue\u001b[0m\u001b[1;33m)\u001b[0m\u001b[1;33m:\u001b[0m\u001b[1;33m\u001b[0m\u001b[1;33m\u001b[0m\u001b[0m\n",
      "\u001b[1;32m~\\Anaconda3\\lib\\site-packages\\pandas\\core\\frame.py\u001b[0m in \u001b[0;36m_set_item\u001b[1;34m(self, key, value)\u001b[0m\n\u001b[0;32m   3547\u001b[0m \u001b[1;33m\u001b[0m\u001b[0m\n\u001b[0;32m   3548\u001b[0m         \u001b[0mself\u001b[0m\u001b[1;33m.\u001b[0m\u001b[0m_ensure_valid_index\u001b[0m\u001b[1;33m(\u001b[0m\u001b[0mvalue\u001b[0m\u001b[1;33m)\u001b[0m\u001b[1;33m\u001b[0m\u001b[1;33m\u001b[0m\u001b[0m\n\u001b[1;32m-> 3549\u001b[1;33m         \u001b[0mvalue\u001b[0m \u001b[1;33m=\u001b[0m \u001b[0mself\u001b[0m\u001b[1;33m.\u001b[0m\u001b[0m_sanitize_column\u001b[0m\u001b[1;33m(\u001b[0m\u001b[0mkey\u001b[0m\u001b[1;33m,\u001b[0m \u001b[0mvalue\u001b[0m\u001b[1;33m)\u001b[0m\u001b[1;33m\u001b[0m\u001b[1;33m\u001b[0m\u001b[0m\n\u001b[0m\u001b[0;32m   3550\u001b[0m         \u001b[0mNDFrame\u001b[0m\u001b[1;33m.\u001b[0m\u001b[0m_set_item\u001b[0m\u001b[1;33m(\u001b[0m\u001b[0mself\u001b[0m\u001b[1;33m,\u001b[0m \u001b[0mkey\u001b[0m\u001b[1;33m,\u001b[0m \u001b[0mvalue\u001b[0m\u001b[1;33m)\u001b[0m\u001b[1;33m\u001b[0m\u001b[1;33m\u001b[0m\u001b[0m\n\u001b[0;32m   3551\u001b[0m \u001b[1;33m\u001b[0m\u001b[0m\n",
      "\u001b[1;32m~\\Anaconda3\\lib\\site-packages\\pandas\\core\\frame.py\u001b[0m in \u001b[0;36m_sanitize_column\u001b[1;34m(self, key, value, broadcast)\u001b[0m\n\u001b[0;32m   3732\u001b[0m \u001b[1;33m\u001b[0m\u001b[0m\n\u001b[0;32m   3733\u001b[0m             \u001b[1;31m# turn me into an ndarray\u001b[0m\u001b[1;33m\u001b[0m\u001b[1;33m\u001b[0m\u001b[1;33m\u001b[0m\u001b[0m\n\u001b[1;32m-> 3734\u001b[1;33m             \u001b[0mvalue\u001b[0m \u001b[1;33m=\u001b[0m \u001b[0msanitize_index\u001b[0m\u001b[1;33m(\u001b[0m\u001b[0mvalue\u001b[0m\u001b[1;33m,\u001b[0m \u001b[0mself\u001b[0m\u001b[1;33m.\u001b[0m\u001b[0mindex\u001b[0m\u001b[1;33m,\u001b[0m \u001b[0mcopy\u001b[0m\u001b[1;33m=\u001b[0m\u001b[1;32mFalse\u001b[0m\u001b[1;33m)\u001b[0m\u001b[1;33m\u001b[0m\u001b[1;33m\u001b[0m\u001b[0m\n\u001b[0m\u001b[0;32m   3735\u001b[0m             \u001b[1;32mif\u001b[0m \u001b[1;32mnot\u001b[0m \u001b[0misinstance\u001b[0m\u001b[1;33m(\u001b[0m\u001b[0mvalue\u001b[0m\u001b[1;33m,\u001b[0m \u001b[1;33m(\u001b[0m\u001b[0mnp\u001b[0m\u001b[1;33m.\u001b[0m\u001b[0mndarray\u001b[0m\u001b[1;33m,\u001b[0m \u001b[0mIndex\u001b[0m\u001b[1;33m)\u001b[0m\u001b[1;33m)\u001b[0m\u001b[1;33m:\u001b[0m\u001b[1;33m\u001b[0m\u001b[1;33m\u001b[0m\u001b[0m\n\u001b[0;32m   3736\u001b[0m                 \u001b[1;32mif\u001b[0m \u001b[0misinstance\u001b[0m\u001b[1;33m(\u001b[0m\u001b[0mvalue\u001b[0m\u001b[1;33m,\u001b[0m \u001b[0mlist\u001b[0m\u001b[1;33m)\u001b[0m \u001b[1;32mand\u001b[0m \u001b[0mlen\u001b[0m\u001b[1;33m(\u001b[0m\u001b[0mvalue\u001b[0m\u001b[1;33m)\u001b[0m \u001b[1;33m>\u001b[0m \u001b[1;36m0\u001b[0m\u001b[1;33m:\u001b[0m\u001b[1;33m\u001b[0m\u001b[1;33m\u001b[0m\u001b[0m\n",
      "\u001b[1;32m~\\Anaconda3\\lib\\site-packages\\pandas\\core\\internals\\construction.py\u001b[0m in \u001b[0;36msanitize_index\u001b[1;34m(data, index, copy)\u001b[0m\n\u001b[0;32m    610\u001b[0m \u001b[1;33m\u001b[0m\u001b[0m\n\u001b[0;32m    611\u001b[0m     \u001b[1;32mif\u001b[0m \u001b[0mlen\u001b[0m\u001b[1;33m(\u001b[0m\u001b[0mdata\u001b[0m\u001b[1;33m)\u001b[0m \u001b[1;33m!=\u001b[0m \u001b[0mlen\u001b[0m\u001b[1;33m(\u001b[0m\u001b[0mindex\u001b[0m\u001b[1;33m)\u001b[0m\u001b[1;33m:\u001b[0m\u001b[1;33m\u001b[0m\u001b[1;33m\u001b[0m\u001b[0m\n\u001b[1;32m--> 612\u001b[1;33m         \u001b[1;32mraise\u001b[0m \u001b[0mValueError\u001b[0m\u001b[1;33m(\u001b[0m\u001b[1;34m\"Length of values does not match length of index\"\u001b[0m\u001b[1;33m)\u001b[0m\u001b[1;33m\u001b[0m\u001b[1;33m\u001b[0m\u001b[0m\n\u001b[0m\u001b[0;32m    613\u001b[0m \u001b[1;33m\u001b[0m\u001b[0m\n\u001b[0;32m    614\u001b[0m     \u001b[1;32mif\u001b[0m \u001b[0misinstance\u001b[0m\u001b[1;33m(\u001b[0m\u001b[0mdata\u001b[0m\u001b[1;33m,\u001b[0m \u001b[0mABCIndexClass\u001b[0m\u001b[1;33m)\u001b[0m \u001b[1;32mand\u001b[0m \u001b[1;32mnot\u001b[0m \u001b[0mcopy\u001b[0m\u001b[1;33m:\u001b[0m\u001b[1;33m\u001b[0m\u001b[1;33m\u001b[0m\u001b[0m\n",
      "\u001b[1;31mValueError\u001b[0m: Length of values does not match length of index"
     ]
    }
   ],
   "source": [
    "\n",
    "for index, row in df.iterrows():\n",
    "    city = row['city']\n",
    "    print(f\"Processing City Records {index + 1} : {city}\")\n",
    "    \n",
    "    target_url = \"http://api.openweathermap.org/data/2.5/weather?units=Imperial&q=\" + city + \"&APPID=\" + api_key\n",
    "    response = requests.get(target_url).json()\n",
    "try:\n",
    "        temp.append(response['main']['temp']) \n",
    "        max_temp.append(response['main']['temp_max'])\n",
    "        humidity.append(response['main']['humidity'])\n",
    "        wind_speed.append(response['wind']['speed'])\n",
    "        cloudiness.append(response['clouds']['all'])\n",
    "\n",
    "except:\n",
    "        print(\"City not found\")\n",
    "        pass\n",
    "print(\"----------------------\")\n",
    "print(\"Complete\")  \n",
    "\n",
    "df[\"Temperature\"]=temp\n",
    "df[\"Max Temperature\"]=max_temp\n",
    "df[\"Humidity\"]=humidity\n",
    "df[\"Clouds\"]=clouds\n",
    "df[\"Wind Speed\"]=wind"
   ]
  },
  {
   "cell_type": "code",
   "execution_count": null,
   "metadata": {},
   "outputs": [],
   "source": []
  },
  {
   "cell_type": "code",
   "execution_count": 8,
   "metadata": {},
   "outputs": [
    {
     "ename": "NameError",
     "evalue": "name 'cloudiness' is not defined",
     "output_type": "error",
     "traceback": [
      "\u001b[1;31m---------------------------------------------------------------------------\u001b[0m",
      "\u001b[1;31mNameError\u001b[0m                                 Traceback (most recent call last)",
      "\u001b[1;32m<ipython-input-8-cae4dda6d351>\u001b[0m in \u001b[0;36m<module>\u001b[1;34m\u001b[0m\n\u001b[0;32m      1\u001b[0m weather_dictionary = {\"City\":city,\n\u001b[1;32m----> 2\u001b[1;33m     \u001b[1;34m\"Cloudiness\"\u001b[0m\u001b[1;33m:\u001b[0m\u001b[0mcloudiness\u001b[0m\u001b[1;33m,\u001b[0m\u001b[1;33m\u001b[0m\u001b[1;33m\u001b[0m\u001b[0m\n\u001b[0m\u001b[0;32m      3\u001b[0m     \u001b[1;34m\"Humidity\"\u001b[0m\u001b[1;33m:\u001b[0m\u001b[0mhumidity\u001b[0m\u001b[1;33m,\u001b[0m\u001b[1;33m\u001b[0m\u001b[1;33m\u001b[0m\u001b[0m\n\u001b[0;32m      4\u001b[0m     \u001b[1;34m\"Lat\"\u001b[0m\u001b[1;33m:\u001b[0m\u001b[0mlats\u001b[0m\u001b[1;33m,\u001b[0m\u001b[1;33m\u001b[0m\u001b[1;33m\u001b[0m\u001b[0m\n\u001b[0;32m      5\u001b[0m     \u001b[1;34m\"Lng\"\u001b[0m\u001b[1;33m:\u001b[0m\u001b[0mlngs\u001b[0m\u001b[1;33m,\u001b[0m\u001b[1;33m\u001b[0m\u001b[1;33m\u001b[0m\u001b[0m\n",
      "\u001b[1;31mNameError\u001b[0m: name 'cloudiness' is not defined"
     ]
    }
   ],
   "source": [
    "weather_dictionary = {\"City\":city,\n",
    "    \"Cloudiness\":cloudiness,\n",
    "    \"Humidity\":humidity,\n",
    "    \"Lat\":lats,\n",
    "    \"Lng\":lngs,\n",
    "    \"Max Temp\":max_temp,\n",
    "    \"Wind Speed\":wind_speed}\n"
   ]
  },
  {
   "cell_type": "code",
   "execution_count": 9,
   "metadata": {},
   "outputs": [
    {
     "ename": "NameError",
     "evalue": "name 'weather_dictionary' is not defined",
     "output_type": "error",
     "traceback": [
      "\u001b[1;31m---------------------------------------------------------------------------\u001b[0m",
      "\u001b[1;31mNameError\u001b[0m                                 Traceback (most recent call last)",
      "\u001b[1;32m<ipython-input-9-ca82038664c1>\u001b[0m in \u001b[0;36m<module>\u001b[1;34m\u001b[0m\n\u001b[1;32m----> 1\u001b[1;33m \u001b[0mupdated_weather_df\u001b[0m \u001b[1;33m=\u001b[0m \u001b[0mpd\u001b[0m\u001b[1;33m.\u001b[0m\u001b[0mDataFrame\u001b[0m\u001b[1;33m(\u001b[0m\u001b[0mweather_dictionary\u001b[0m\u001b[1;33m)\u001b[0m\u001b[1;33m\u001b[0m\u001b[1;33m\u001b[0m\u001b[0m\n\u001b[0m",
      "\u001b[1;31mNameError\u001b[0m: name 'weather_dictionary' is not defined"
     ]
    }
   ],
   "source": [
    "updated_weather_df = pd.DataFrame(weather_dictionary)"
   ]
  },
  {
   "cell_type": "code",
   "execution_count": 10,
   "metadata": {},
   "outputs": [
    {
     "data": {
      "text/plain": [
       "Text(0.5, 1.0, 'City Latitude vs. Max Temperature')"
      ]
     },
     "execution_count": 10,
     "metadata": {},
     "output_type": "execute_result"
    },
    {
     "data": {
      "image/png": "[encoded data removed]",
      "text/plain": [
       "<Figure size 432x288 with 1 Axes>"
      ]
     },
     "metadata": {
      "needs_background": "light"
     },
     "output_type": "display_data"
    }
   ],
   "source": [
    "#Scatterplot Temperature (F) vs. Latitude\n",
    "latitude = weather_data_df[\"Lat\"]\n",
    "max_temperature = weather_data_df[\"Max Temp\"]\n",
    "plt.scatter(latitude, max_temperature,facecolors=\"blue\", edgecolors=\"black\")\n",
    "plt.xlabel(\"Latitude\")\n",
    "plt.ylabel(\"Max Temperature (F)\")\n",
    "plt.title(\"City Latitude vs. Max Temperature\")\n"
   ]
  },
  {
   "cell_type": "code",
   "execution_count": 11,
   "metadata": {},
   "outputs": [],
   "source": [
    "#The plot shows that the higher temperatures occurs the closer the latitude moves towards zero"
   ]
  },
  {
   "cell_type": "code",
   "execution_count": 12,
   "metadata": {},
   "outputs": [
    {
     "data": {
      "text/plain": [
       "Text(0.5, 1.0, 'Humidity % vs Latitude')"
      ]
     },
     "execution_count": 12,
     "metadata": {},
     "output_type": "execute_result"
    },
    {
     "data": {
      "image/png": "[encoded data removed]",
      "text/plain": [
       "<Figure size 432x288 with 1 Axes>"
      ]
     },
     "metadata": {
      "needs_background": "light"
     },
     "output_type": "display_data"
    }
   ],
   "source": [
    "#Scatterplot Humidity (%) vs. Latitude\n",
    "humidity = weather_data_df[\"Humidity\"]\n",
    "plt.scatter(latitude, humidity,facecolors=\"green\", edgecolors=\"black\")\n",
    "plt.ylim(0,120)\n",
    "plt.xlabel(\"Latitude\")\n",
    "plt.ylabel(\"Humidity %\")\n",
    "plt.title(\"Humidity % vs Latitude\")"
   ]
  },
  {
   "cell_type": "code",
   "execution_count": 13,
   "metadata": {},
   "outputs": [],
   "source": [
    "#The plot shows that the lowest percentage of humidity occurs from 0-40 degrees latitude "
   ]
  },
  {
   "cell_type": "code",
   "execution_count": 14,
   "metadata": {},
   "outputs": [
    {
     "data": {
      "text/plain": [
       "Text(0.5, 1.0, 'Cloudiness vs Latitude')"
      ]
     },
     "execution_count": 14,
     "metadata": {},
     "output_type": "execute_result"
    },
    {
     "data": {
      "image/png": "[encoded data removed]",
      "text/plain": [
       "<Figure size 432x288 with 1 Axes>"
      ]
     },
     "metadata": {
      "needs_background": "light"
     },
     "output_type": "display_data"
    }
   ],
   "source": [
    "#Scatterplot Cloudiness (%) vs. Latitude\n",
    "cloudiness = weather_data_df[\"Cloudiness\"]\n",
    "plt.scatter(latitude, cloudiness, facecolors=\"yellow\", edgecolors=\"grey\")\n",
    "plt.ylim(-5, 110)\n",
    "plt.xlabel(\"Latitude\")\n",
    "plt.ylabel(\"Cloudiness\")\n",
    "plt.title(\"Cloudiness vs Latitude\")"
   ]
  },
  {
   "cell_type": "code",
   "execution_count": 15,
   "metadata": {},
   "outputs": [],
   "source": [
    "#The plot shows that cloud coverage is spread out throughout the latitudes, however tends to have less cloudiness the higher the latitude is."
   ]
  },
  {
   "cell_type": "code",
   "execution_count": 16,
   "metadata": {},
   "outputs": [
    {
     "data": {
      "text/plain": [
       "Text(0.5, 1.0, 'Wind Speed vs Latitude')"
      ]
     },
     "execution_count": 16,
     "metadata": {},
     "output_type": "execute_result"
    },
    {
     "data": {
      "image/png": "[encoded data removed]",
      "text/plain": [
       "<Figure size 432x288 with 1 Axes>"
      ]
     },
     "metadata": {
      "needs_background": "light"
     },
     "output_type": "display_data"
    }
   ],
   "source": [
    "#Scatterplot Wind Speed (mph) vs. Latitude\n",
    "wind_speed = weather_data_df[\"Wind Speed\"]\n",
    "plt.scatter(latitude, wind_speed, facecolors=\"red\", edgecolors=\"black\")\n",
    "plt.xlabel(\"Latitude\")\n",
    "plt.ylabel(\"Wind Speed\")\n",
    "plt.title(\"Wind Speed vs Latitude\")"
   ]
  },
  {
   "cell_type": "code",
   "execution_count": 17,
   "metadata": {},
   "outputs": [],
   "source": [
    "#The plot shows that besides a few outliers, wind speed are evenly spread out across different latitudes of the world"
   ]
  },
  {
   "cell_type": "code",
   "execution_count": 18,
   "metadata": {},
   "outputs": [],
   "source": [
    "new_weather_df = weather_data_df\n",
    "\n"
   ]
  },
  {
   "cell_type": "code",
   "execution_count": 19,
   "metadata": {},
   "outputs": [
    {
     "data": {
      "text/html": [
       "<div>\n",
       "<style scoped>\n",
       "    .dataframe tbody tr th:only-of-type {\n",
       "        vertical-align: middle;\n",
       "    }\n",
       "\n",
       "    .dataframe tbody tr th {\n",
       "        vertical-align: top;\n",
       "    }\n",
       "\n",
       "    .dataframe thead th {\n",
       "        text-align: right;\n",
       "    }\n",
       "</style>\n",
       "<table border=\"1\" class=\"dataframe\">\n",
       "  <thead>\n",
       "    <tr style=\"text-align: right;\">\n",
       "      <th></th>\n",
       "      <th>City_ID</th>\n",
       "      <th>City</th>\n",
       "      <th>Cloudiness</th>\n",
       "      <th>Country</th>\n",
       "      <th>Date</th>\n",
       "      <th>Humidity</th>\n",
       "      <th>Lat</th>\n",
       "      <th>Lng</th>\n",
       "      <th>Max Temp</th>\n",
       "      <th>Wind Speed</th>\n",
       "    </tr>\n",
       "  </thead>\n",
       "  <tbody>\n",
       "    <tr>\n",
       "      <td>0</td>\n",
       "      <td>0</td>\n",
       "      <td>ostrovnoy</td>\n",
       "      <td>2</td>\n",
       "      <td>RU</td>\n",
       "      <td>1558378754</td>\n",
       "      <td>72</td>\n",
       "      <td>68.05</td>\n",
       "      <td>39.51</td>\n",
       "      <td>37.50</td>\n",
       "      <td>7.16</td>\n",
       "    </tr>\n",
       "    <tr>\n",
       "      <td>2</td>\n",
       "      <td>2</td>\n",
       "      <td>qaanaaq</td>\n",
       "      <td>25</td>\n",
       "      <td>GL</td>\n",
       "      <td>1558378755</td>\n",
       "      <td>73</td>\n",
       "      <td>77.48</td>\n",
       "      <td>-69.36</td>\n",
       "      <td>22.20</td>\n",
       "      <td>2.37</td>\n",
       "    </tr>\n",
       "    <tr>\n",
       "      <td>3</td>\n",
       "      <td>3</td>\n",
       "      <td>zhuhai</td>\n",
       "      <td>0</td>\n",
       "      <td>CN</td>\n",
       "      <td>1558378755</td>\n",
       "      <td>39</td>\n",
       "      <td>40.71</td>\n",
       "      <td>112.04</td>\n",
       "      <td>44.60</td>\n",
       "      <td>4.47</td>\n",
       "    </tr>\n",
       "    <tr>\n",
       "      <td>8</td>\n",
       "      <td>8</td>\n",
       "      <td>tiksi</td>\n",
       "      <td>95</td>\n",
       "      <td>RU</td>\n",
       "      <td>1558378756</td>\n",
       "      <td>88</td>\n",
       "      <td>71.64</td>\n",
       "      <td>128.87</td>\n",
       "      <td>14.10</td>\n",
       "      <td>15.70</td>\n",
       "    </tr>\n",
       "    <tr>\n",
       "      <td>9</td>\n",
       "      <td>9</td>\n",
       "      <td>pushkinskiye gory</td>\n",
       "      <td>6</td>\n",
       "      <td>RU</td>\n",
       "      <td>1558378756</td>\n",
       "      <td>70</td>\n",
       "      <td>57.02</td>\n",
       "      <td>28.91</td>\n",
       "      <td>65.04</td>\n",
       "      <td>6.93</td>\n",
       "    </tr>\n",
       "  </tbody>\n",
       "</table>\n",
       "</div>"
      ],
      "text/plain": [
       "   City_ID               City  Cloudiness Country        Date  Humidity  \\\n",
       "0        0          ostrovnoy           2      RU  1558378754        72   \n",
       "2        2            qaanaaq          25      GL  1558378755        73   \n",
       "3        3             zhuhai           0      CN  1558378755        39   \n",
       "8        8              tiksi          95      RU  1558378756        88   \n",
       "9        9  pushkinskiye gory           6      RU  1558378756        70   \n",
       "\n",
       "     Lat     Lng  Max Temp  Wind Speed  \n",
       "0  68.05   39.51     37.50        7.16  \n",
       "2  77.48  -69.36     22.20        2.37  \n",
       "3  40.71  112.04     44.60        4.47  \n",
       "8  71.64  128.87     14.10       15.70  \n",
       "9  57.02   28.91     65.04        6.93  "
      ]
     },
     "execution_count": 19,
     "metadata": {},
     "output_type": "execute_result"
    }
   ],
   "source": [
    "northern_hemi = new_weather_df.loc[(new_weather_df[\"Lat\"] > 0)]\n",
    "southern_hemi = new_weather_df.loc[(new_weather_df[\"Lat\"] < 0)]\n",
    "northern_hemi.head()"
   ]
  },
  {
   "cell_type": "code",
   "execution_count": 20,
   "metadata": {},
   "outputs": [],
   "source": [
    "north_temp = northern_hemi[\"Max Temp\"]\n",
    "north_lat = northern_hemi[\"Lat\"]"
   ]
  },
  {
   "cell_type": "code",
   "execution_count": 21,
   "metadata": {},
   "outputs": [
    {
     "name": "stdout",
     "output_type": "stream",
     "text": [
      "0      59.466215\n",
      "2      71.858599\n",
      "3      53.715501\n",
      "8      78.419272\n",
      "9      37.159925\n",
      "         ...    \n",
      "543    24.556953\n",
      "544    21.641098\n",
      "545    40.432163\n",
      "546    49.552309\n",
      "547    44.595355\n",
      "Name: Max Temp, Length: 380, dtype: float64\n"
     ]
    }
   ],
   "source": [
    "# Perform a linear regression on temperature vs. latitude\n",
    "(slope, intercept, rvalue, pvalue, stderr) = stats.linregress(north_temp, north_lat)\n",
    "\n",
    "# Get regression values\n",
    "regress_values = north_temp * slope + intercept\n",
    "print(regress_values)"
   ]
  },
  {
   "cell_type": "code",
   "execution_count": 22,
   "metadata": {},
   "outputs": [
    {
     "name": "stdout",
     "output_type": "stream",
     "text": [
      "y = -0.81x +89.84\n"
     ]
    }
   ],
   "source": [
    "# Create line equation string\n",
    "line_eq = \"y = \" + str(round(slope,2)) + \"x +\" + str(round(intercept,2))\n",
    "print(line_eq)"
   ]
  },
  {
   "cell_type": "code",
   "execution_count": 23,
   "metadata": {},
   "outputs": [
    {
     "name": "stdout",
     "output_type": "stream",
     "text": [
      "The r-squared is: -0.8151657406810829\n"
     ]
    },
    {
     "data": {
      "image/png": "[encoded data removed]",
      "text/plain": [
       "<Figure size 432x288 with 1 Axes>"
      ]
     },
     "metadata": {
      "needs_background": "light"
     },
     "output_type": "display_data"
    }
   ],
   "source": [
    "# Create Plot\n",
    "plt.scatter(north_temp,north_lat)\n",
    "plt.plot(north_temp,regress_values,\"r-\")\n",
    "\n",
    "# Label plot and annotate the line equation\n",
    "plt.xlabel('Temperature')\n",
    "plt.ylabel('Latitude')\n",
    "plt.title(\"Northern Hemisphere Temperature vs Latitude\")\n",
    "plt.annotate(line_eq,(20,15),fontsize=15,color=\"red\")\n",
    "\n",
    "# Print r square value\n",
    "print(f\"The r-squared is: {rvalue}\")\n",
    "\n",
    "# Show plot\n",
    "plt.show()"
   ]
  },
  {
   "cell_type": "code",
   "execution_count": 24,
   "metadata": {},
   "outputs": [],
   "source": [
    "#The graph shows a negative correlation, with the lower the latitude, the higher the temperature. "
   ]
  },
  {
   "cell_type": "code",
   "execution_count": 25,
   "metadata": {},
   "outputs": [],
   "source": [
    "south_temp = southern_hemi[\"Max Temp\"]\n",
    "south_lat = southern_hemi[\"Lat\"]"
   ]
  },
  {
   "cell_type": "code",
   "execution_count": 26,
   "metadata": {},
   "outputs": [
    {
     "name": "stdout",
     "output_type": "stream",
     "text": [
      "1     -12.731843\n",
      "4     -32.029822\n",
      "5     -10.058384\n",
      "6     -28.628775\n",
      "7     -18.434095\n",
      "         ...    \n",
      "526   -29.855521\n",
      "531   -37.097550\n",
      "536   -10.667526\n",
      "539   -12.799526\n",
      "541   -41.666120\n",
      "Name: Max Temp, Length: 168, dtype: float64\n"
     ]
    }
   ],
   "source": [
    "# Perform a linear regression on temperature vs. latitude\n",
    "(slope, intercept, rvalue, pvalue, stderr) = stats.linregress(south_temp, south_lat)\n",
    "\n",
    "# Get regression values\n",
    "regress_values = south_temp * slope + intercept\n",
    "print(regress_values)"
   ]
  },
  {
   "cell_type": "code",
   "execution_count": 27,
   "metadata": {},
   "outputs": [
    {
     "name": "stdout",
     "output_type": "stream",
     "text": [
      "y = 0.85x +-79.4\n"
     ]
    }
   ],
   "source": [
    "# Create line equation string\n",
    "line_eq = \"y = \" + str(round(slope,2)) + \"x +\" + str(round(intercept,2))\n",
    "print(line_eq)"
   ]
  },
  {
   "cell_type": "code",
   "execution_count": 28,
   "metadata": {},
   "outputs": [
    {
     "name": "stdout",
     "output_type": "stream",
     "text": [
      "The r-squared is: 0.7602633550516462\n"
     ]
    },
    {
     "data": {
      "image/png": "[encoded data removed]",
      "text/plain": [
       "<Figure size 432x288 with 1 Axes>"
      ]
     },
     "metadata": {
      "needs_background": "light"
     },
     "output_type": "display_data"
    }
   ],
   "source": [
    "# Create Plot\n",
    "plt.scatter(south_temp,south_lat)\n",
    "plt.plot(south_temp,regress_values,\"r-\")\n",
    "\n",
    "# Label plot and annotate the line equation\n",
    "plt.xlabel('Temperature')\n",
    "plt.ylabel('Latitude')\n",
    "plt.title('Southern Hemisphere Temperature vs Latitude')\n",
    "plt.annotate(line_eq,(20,15),fontsize=15,color=\"red\")\n",
    "\n",
    "# Print r square value\n",
    "print(f\"The r-squared is: {rvalue}\")\n",
    "\n",
    "# Show plot\n",
    "plt.show()"
   ]
  },
  {
   "cell_type": "code",
   "execution_count": 29,
   "metadata": {},
   "outputs": [],
   "source": [
    "#The grpah shows a positive correlation with the closer the latitude is to zero, the higher the temperature is. "
   ]
  },
  {
   "cell_type": "code",
   "execution_count": 30,
   "metadata": {},
   "outputs": [],
   "source": [
    "north_humid = northern_hemi[\"Humidity\"]\n"
   ]
  },
  {
   "cell_type": "code",
   "execution_count": 31,
   "metadata": {},
   "outputs": [
    {
     "name": "stdout",
     "output_type": "stream",
     "text": [
      "0      38.823749\n",
      "2      38.919349\n",
      "3      35.668965\n",
      "8      40.353342\n",
      "9      38.632550\n",
      "         ...    \n",
      "543    34.999768\n",
      "544    32.322982\n",
      "545    37.867754\n",
      "546    40.831339\n",
      "547    38.058953\n",
      "Name: Humidity, Length: 380, dtype: float64\n"
     ]
    }
   ],
   "source": [
    "# Perform a linear regression on temperature vs. latitude\n",
    "(slope, intercept, rvalue, pvalue, stderr) = stats.linregress(north_humid, north_lat)\n",
    "\n",
    "# Get regression values\n",
    "regress_values = north_humid * slope + intercept\n",
    "print(regress_values)\n",
    "   "
   ]
  },
  {
   "cell_type": "code",
   "execution_count": 32,
   "metadata": {},
   "outputs": [
    {
     "name": "stdout",
     "output_type": "stream",
     "text": [
      "y = 0.1x +31.94\n"
     ]
    }
   ],
   "source": [
    "# Create line equation string\n",
    "line_eq = \"y = \" + str(round(slope,2)) + \"x +\" + str(round(intercept,2))\n",
    "print(line_eq)"
   ]
  },
  {
   "cell_type": "code",
   "execution_count": 33,
   "metadata": {},
   "outputs": [
    {
     "name": "stdout",
     "output_type": "stream",
     "text": [
      "The r-squared is: 0.10358336015746496\n"
     ]
    },
    {
     "data": {
      "image/png": "[encoded data removed]",
      "text/plain": [
       "<Figure size 432x288 with 1 Axes>"
      ]
     },
     "metadata": {
      "needs_background": "light"
     },
     "output_type": "display_data"
    }
   ],
   "source": [
    "# Create Plot\n",
    "plt.scatter(north_humid,north_lat)\n",
    "plt.plot(north_humid,regress_values,\"r-\")\n",
    "\n",
    "# Label plot and annotate the line equation\n",
    "plt.xlabel('Humidity')\n",
    "plt.ylabel('Latitude')\n",
    "plt.title('Northern Hemisphere Humidity vs Latitude')\n",
    "plt.annotate(line_eq,(20,15),fontsize=15,color=\"red\")\n",
    "\n",
    "# Print r square value\n",
    "print(f\"The r-squared is: {rvalue}\")\n",
    "\n",
    "# Show plot\n",
    "plt.show()"
   ]
  },
  {
   "cell_type": "code",
   "execution_count": 35,
   "metadata": {},
   "outputs": [],
   "source": [
    "#THe graph shows a slight positive correlation"
   ]
  },
  {
   "cell_type": "code",
   "execution_count": 36,
   "metadata": {},
   "outputs": [],
   "source": [
    "south_humid = southern_hemi[\"Humidity\"]"
   ]
  },
  {
   "cell_type": "code",
   "execution_count": 37,
   "metadata": {},
   "outputs": [
    {
     "name": "stdout",
     "output_type": "stream",
     "text": [
      "1     -22.137319\n",
      "4     -21.975270\n",
      "5     -21.975270\n",
      "6     -23.109613\n",
      "7     -26.269568\n",
      "         ...    \n",
      "526   -24.811127\n",
      "531   -22.380393\n",
      "536   -21.489123\n",
      "539   -21.651172\n",
      "541   -21.084001\n",
      "Name: Humidity, Length: 168, dtype: float64\n"
     ]
    }
   ],
   "source": [
    "# Perform a linear regression on temperature vs. latitude\n",
    "(slope, intercept, rvalue, pvalue, stderr) = stats.linregress(south_humid, south_lat)\n",
    "\n",
    "# Get regression values\n",
    "regress_values = south_humid * slope + intercept\n",
    "print(regress_values)"
   ]
  },
  {
   "cell_type": "code",
   "execution_count": 38,
   "metadata": {},
   "outputs": [
    {
     "name": "stdout",
     "output_type": "stream",
     "text": [
      "y = 0.08x +-28.13\n"
     ]
    }
   ],
   "source": [
    "# Create line equation string\n",
    "line_eq = \"y = \" + str(round(slope,2)) + \"x +\" + str(round(intercept,2))\n",
    "print(line_eq)"
   ]
  },
  {
   "cell_type": "code",
   "execution_count": 39,
   "metadata": {},
   "outputs": [
    {
     "name": "stdout",
     "output_type": "stream",
     "text": [
      "The r-squared is: 0.14689473425583074\n"
     ]
    },
    {
     "data": {
      "image/png": "[encoded data removed]",
      "text/plain": [
       "<Figure size 432x288 with 1 Axes>"
      ]
     },
     "metadata": {
      "needs_background": "light"
     },
     "output_type": "display_data"
    }
   ],
   "source": [
    "# Create Plot\n",
    "plt.scatter(south_humid,south_lat)\n",
    "plt.plot(south_humid,regress_values,\"r-\")\n",
    "\n",
    "# Label plot and annotate the line equation\n",
    "plt.xlabel('Humidity')\n",
    "plt.ylabel('Latitude')\n",
    "plt.title(\"Southern Hemisphere Humidity vs Latitude\")\n",
    "plt.annotate(line_eq,(20,15),fontsize=15,color=\"red\")\n",
    "# Print r square value\n",
    "print(f\"The r-squared is: {rvalue}\")\n",
    "\n",
    "# Show plot\n",
    "plt.show()"
   ]
  },
  {
   "cell_type": "code",
   "execution_count": 40,
   "metadata": {},
   "outputs": [],
   "source": [
    "#The graph shows a positive correlation"
   ]
  },
  {
   "cell_type": "code",
   "execution_count": 41,
   "metadata": {},
   "outputs": [],
   "source": [
    "north_clouds = northern_hemi[\"Cloudiness\"]"
   ]
  },
  {
   "cell_type": "code",
   "execution_count": 42,
   "metadata": {},
   "outputs": [
    {
     "name": "stdout",
     "output_type": "stream",
     "text": [
      "0      40.530704\n",
      "2      39.398655\n",
      "3      40.629143\n",
      "8      35.953290\n",
      "9      40.333826\n",
      "         ...    \n",
      "543    40.629143\n",
      "544    40.383045\n",
      "545    40.629143\n",
      "546    35.707193\n",
      "547    40.432265\n",
      "Name: Cloudiness, Length: 380, dtype: float64\n"
     ]
    }
   ],
   "source": [
    "# Perform a linear regression on temperature vs. latitude\n",
    "(slope, intercept, rvalue, pvalue, stderr) = stats.linregress(north_clouds, north_lat)\n",
    "\n",
    "# Get regression values\n",
    "regress_values = north_clouds * slope + intercept\n",
    "print(regress_values)\n",
    "   "
   ]
  },
  {
   "cell_type": "code",
   "execution_count": 43,
   "metadata": {},
   "outputs": [
    {
     "name": "stdout",
     "output_type": "stream",
     "text": [
      "y = -0.05x +40.63\n"
     ]
    }
   ],
   "source": [
    "# Create line equation string\n",
    "line_eq = \"y = \" + str(round(slope,2)) + \"x +\" + str(round(intercept,2))\n",
    "print(line_eq)"
   ]
  },
  {
   "cell_type": "code",
   "execution_count": 44,
   "metadata": {},
   "outputs": [
    {
     "name": "stdout",
     "output_type": "stream",
     "text": [
      "The r-squared is: -0.08733547918934018\n"
     ]
    },
    {
     "data": {
      "image/png": "[encoded data removed]",
      "text/plain": [
       "<Figure size 432x288 with 1 Axes>"
      ]
     },
     "metadata": {
      "needs_background": "light"
     },
     "output_type": "display_data"
    }
   ],
   "source": [
    "# Create Plot\n",
    "plt.scatter(north_clouds,north_lat)\n",
    "plt.plot(north_clouds,regress_values,\"r-\")\n",
    "\n",
    "# Label plot and annotate the line equation\n",
    "plt.xlabel('Cloudiness')\n",
    "plt.ylabel('Latitude')\n",
    "plt.title('Northern Hemisphere Cloudiness vs Latitude')\n",
    "plt.annotate(line_eq,(20,15),fontsize=15,color=\"red\")\n",
    "\n",
    "# Print r square value\n",
    "print(f\"The r-squared is: {rvalue}\")\n",
    "\n",
    "# Show plot\n",
    "plt.show()"
   ]
  },
  {
   "cell_type": "code",
   "execution_count": 45,
   "metadata": {},
   "outputs": [],
   "source": [
    "#The graph shows a slight negative correlation, with cloudiness being spread out over the latitude lines "
   ]
  },
  {
   "cell_type": "code",
   "execution_count": 46,
   "metadata": {},
   "outputs": [],
   "source": [
    "south_clouds = southern_hemi[\"Cloudiness\"]"
   ]
  },
  {
   "cell_type": "code",
   "execution_count": 47,
   "metadata": {},
   "outputs": [
    {
     "name": "stdout",
     "output_type": "stream",
     "text": [
      "1     -19.970252\n",
      "4     -24.482916\n",
      "5     -19.724107\n",
      "6     -26.123885\n",
      "7     -26.123885\n",
      "         ...    \n",
      "526   -24.975207\n",
      "531   -19.970252\n",
      "536   -17.919041\n",
      "539   -20.216398\n",
      "541   -20.872785\n",
      "Name: Cloudiness, Length: 168, dtype: float64\n"
     ]
    }
   ],
   "source": [
    "# Perform a linear regression on temperature vs. latitude\n",
    "(slope, intercept, rvalue, pvalue, stderr) = stats.linregress(south_clouds, south_lat)\n",
    "\n",
    "# Get regression values\n",
    "regress_values = south_clouds * slope + intercept\n",
    "print(regress_values)\n",
    "   "
   ]
  },
  {
   "cell_type": "code",
   "execution_count": 48,
   "metadata": {},
   "outputs": [
    {
     "name": "stdout",
     "output_type": "stream",
     "text": [
      "y = 0.08x +-26.12\n"
     ]
    }
   ],
   "source": [
    "# Create line equation string\n",
    "line_eq = \"y = \" + str(round(slope,2)) + \"x +\" + str(round(intercept,2))\n",
    "print(line_eq)"
   ]
  },
  {
   "cell_type": "code",
   "execution_count": 49,
   "metadata": {},
   "outputs": [
    {
     "name": "stdout",
     "output_type": "stream",
     "text": [
      "The r-squared is: 0.21881426893991604\n"
     ]
    },
    {
     "data": {
      "image/png": "[encoded data removed]",
      "text/plain": [
       "<Figure size 432x288 with 1 Axes>"
      ]
     },
     "metadata": {
      "needs_background": "light"
     },
     "output_type": "display_data"
    }
   ],
   "source": [
    "# Create Plot\n",
    "plt.scatter(south_clouds,south_lat)\n",
    "plt.plot(south_clouds,regress_values,\"r-\")\n",
    "\n",
    "# Label plot and annotate the line equation\n",
    "plt.xlabel('Cloudiness')\n",
    "plt.ylabel('Latitude')\n",
    "plt.title('Southern Hemisphere Cloudiness vs Latitude')\n",
    "plt.annotate(line_eq,(20,15),fontsize=15,color=\"red\")\n",
    "\n",
    "# Print r square value\n",
    "print(f\"The r-squared is: {rvalue}\")\n",
    "\n",
    "# Show plot\n",
    "plt.show()"
   ]
  },
  {
   "cell_type": "code",
   "execution_count": 51,
   "metadata": {},
   "outputs": [],
   "source": [
    "#The graph shows a slight positive correlation, as with the northern hemisphere graph, showing cloud coverage spread out over\n",
    "#the latitude lines"
   ]
  },
  {
   "cell_type": "code",
   "execution_count": 52,
   "metadata": {},
   "outputs": [],
   "source": [
    "north_winds = northern_hemi[\"Wind Speed\"]"
   ]
  },
  {
   "cell_type": "code",
   "execution_count": 53,
   "metadata": {},
   "outputs": [
    {
     "name": "stdout",
     "output_type": "stream",
     "text": [
      "0      37.480065\n",
      "2      35.585219\n",
      "3      36.415945\n",
      "8      40.858350\n",
      "9      37.389081\n",
      "         ...    \n",
      "543    37.832135\n",
      "544    41.020539\n",
      "545    37.832135\n",
      "546    35.707850\n",
      "547    35.771144\n",
      "Name: Wind Speed, Length: 380, dtype: float64\n"
     ]
    }
   ],
   "source": [
    "# Perform a linear regression on temperature vs. latitude\n",
    "(slope, intercept, rvalue, pvalue, stderr) = stats.linregress(north_winds, north_lat)\n",
    "\n",
    "# Get regression values\n",
    "regress_values = north_winds * slope + intercept\n",
    "print(regress_values)\n",
    "   "
   ]
  },
  {
   "cell_type": "code",
   "execution_count": 54,
   "metadata": {},
   "outputs": [
    {
     "name": "stdout",
     "output_type": "stream",
     "text": [
      "y = 0.4x +34.65\n"
     ]
    }
   ],
   "source": [
    "# Create line equation string\n",
    "line_eq = \"y = \" + str(round(slope,2)) + \"x +\" + str(round(intercept,2))\n",
    "print(line_eq)"
   ]
  },
  {
   "cell_type": "code",
   "execution_count": 55,
   "metadata": {},
   "outputs": [
    {
     "name": "stdout",
     "output_type": "stream",
     "text": [
      "The r-squared is: 0.10713827743884798\n"
     ]
    },
    {
     "data": {
      "image/png": "[encoded data removed]",
      "text/plain": [
       "<Figure size 432x288 with 1 Axes>"
      ]
     },
     "metadata": {
      "needs_background": "light"
     },
     "output_type": "display_data"
    }
   ],
   "source": [
    "# Create Plot\n",
    "plt.scatter(north_winds,north_lat)\n",
    "plt.plot(north_winds,regress_values,\"r-\")\n",
    "\n",
    "# Label plot and annotate the line equation\n",
    "plt.xlabel('Wind Speed')\n",
    "plt.ylabel('Latitude')\n",
    "plt.title('Northern Hemisphere Wind Speed vs Latitude')\n",
    "plt.annotate(line_eq,(20,15),fontsize=15,color=\"red\")\n",
    "\n",
    "# Print r square value\n",
    "print(f\"The r-squared is: {rvalue}\")\n",
    "\n",
    "# Show plot\n",
    "plt.show()"
   ]
  },
  {
   "cell_type": "code",
   "execution_count": 57,
   "metadata": {},
   "outputs": [],
   "source": [
    "#The graph shows a slight positive correlation with a few ouliers of wind speed. "
   ]
  },
  {
   "cell_type": "code",
   "execution_count": 58,
   "metadata": {},
   "outputs": [],
   "source": [
    "south_winds = southern_hemi[\"Wind Speed\"]"
   ]
  },
  {
   "cell_type": "code",
   "execution_count": 59,
   "metadata": {},
   "outputs": [
    {
     "name": "stdout",
     "output_type": "stream",
     "text": [
      "1     -24.482312\n",
      "4     -22.102674\n",
      "5     -28.080099\n",
      "6     -24.482312\n",
      "7     -20.254205\n",
      "         ...    \n",
      "526   -24.177775\n",
      "531   -25.431334\n",
      "536   -21.819383\n",
      "539   -19.113961\n",
      "541   -20.523330\n",
      "Name: Wind Speed, Length: 168, dtype: float64\n"
     ]
    }
   ],
   "source": [
    "# Perform a linear regression on temperature vs. latitude\n",
    "(slope, intercept, rvalue, pvalue, stderr) = stats.linregress(south_winds, south_lat)\n",
    "\n",
    "# Get regression values\n",
    "regress_values = south_winds * slope + intercept\n",
    "print(regress_values)\n",
    "   "
   ]
  },
  {
   "cell_type": "code",
   "execution_count": 60,
   "metadata": {},
   "outputs": [
    {
     "name": "stdout",
     "output_type": "stream",
     "text": [
      "y = -0.71x +-16.4\n"
     ]
    }
   ],
   "source": [
    "# Create line equation string\n",
    "line_eq = \"y = \" + str(round(slope,2)) + \"x +\" + str(round(intercept,2))\n",
    "print(line_eq)"
   ]
  },
  {
   "cell_type": "code",
   "execution_count": 61,
   "metadata": {},
   "outputs": [
    {
     "name": "stdout",
     "output_type": "stream",
     "text": [
      "The r-squared is: -0.3224830771395381\n"
     ]
    },
    {
     "data": {
      "image/png": "[encoded data removed]",
      "text/plain": [
       "<Figure size 432x288 with 1 Axes>"
      ]
     },
     "metadata": {
      "needs_background": "light"
     },
     "output_type": "display_data"
    }
   ],
   "source": [
    "# Create Plot\n",
    "plt.scatter(south_winds,south_lat)\n",
    "plt.plot(south_winds,regress_values,\"r-\")\n",
    "\n",
    "# Label plot and annotate the line equation\n",
    "plt.xlabel('Wind Speed')\n",
    "plt.ylabel('Latitude')\n",
    "plt.title('Southern Hemisphere Wind Speed vs Latitude')\n",
    "plt.annotate(line_eq,(20,15),fontsize=15,color=\"red\")\n",
    "\n",
    "# Print r square value\n",
    "print(f\"The r-squared is: {rvalue}\")\n",
    "\n",
    "# Show plot\n",
    "plt.show()"
   ]
  },
  {
   "cell_type": "code",
   "execution_count": null,
   "metadata": {},
   "outputs": [],
   "source": [
    "#The graph shows a negative correlation, with the trend of wind speed picking up the lower the latitude is. "
   ]
  }
 ],
 "metadata": {
  "kernelspec": {
   "display_name": "Python 3",
   "language": "python",
   "name": "python3"
  },
  "language_info": {
   "codemirror_mode": {
    "name": "ipython",
    "version": 3
   },
   "file_extension": ".py",
   "mimetype": "text/x-python",
   "name": "python",
   "nbconvert_exporter": "python",
   "pygments_lexer": "ipython3",
   "version": "3.7.4"
  }
 },
 "nbformat": 4,
 "nbformat_minor": 2
}
